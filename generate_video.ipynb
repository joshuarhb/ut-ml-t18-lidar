{
 "cells": [
  {
   "cell_type": "code",
   "execution_count": 7,
   "metadata": {},
   "outputs": [],
   "source": [
    "import pcl\n",
    "import numpy as np\n",
    "import matplotlib.pyplot as plt\n",
    "\n",
    "def point_cloud_to_image(pcd):\n",
    "    # Convert point cloud to numpy array\n",
    "    points = np.asarray(pcd)\n",
    "    \n",
    "    # For simplicity, project the points onto the XY plane (ignoring Z for a 2D view)\n",
    "    x = points[:, 0]\n",
    "    y = points[:, 1]\n",
    "    \n",
    "    # Create a scatter plot for visualization\n",
    "    plt.figure(figsize=(10, 10))\n",
    "    plt.scatter(x, y, s=1, color=\"blue\")  # Plot points\n",
    "    plt.xlim([-50, 50])  # Adjust according to your data\n",
    "    plt.ylim([-50, 50])\n",
    "    plt.gca().set_aspect('equal', adjustable='box')\n",
    "    plt.axis('off')\n",
    "    return plt\n",
    "\n",
    "def save_frame_as_image(frame, filename):\n",
    "    plt = point_cloud_to_image(frame)\n",
    "    plt.savefig(filename, dpi=300)\n",
    "    plt.close()\n"
   ]
  },
  {
   "cell_type": "code",
   "execution_count": 12,
   "metadata": {},
   "outputs": [],
   "source": [
    "import os\n",
    "import pcl\n",
    "\n",
    "output_folder = './frames'\n",
    "os.makedirs(output_folder, exist_ok=True)\n",
    "pcd_directory = \"./pointclouds_mini\"\n",
    "\n",
    "for i in range(3605, 3732):  # 100 frames, 10 seconds at 10Hz\n",
    "    pcd_file = f'{i:06d}.pcd'\n",
    "    file_path = os.path.join(pcd_directory, pcd_file)\n",
    "\n",
    "    pcd = pcl.load(file_path)  # Modify based on your file structure\n",
    "    filename = os.path.join(output_folder, f\"frame_{i:06d}.png\")\n",
    "    save_frame_as_image(pcd, filename)\n"
   ]
  },
  {
   "cell_type": "code",
   "execution_count": null,
   "metadata": {},
   "outputs": [
    {
     "name": "stderr",
     "output_type": "stream",
     "text": [
      "OpenCV: FFMPEG: tag 0x34363248/'H264' is not supported with codec id 27 and format 'mp4 / MP4 (MPEG-4 Part 14)'\n",
      "OpenCV: FFMPEG: fallback to use tag 0x31637661/'avc1'\n"
     ]
    }
   ],
   "source": [
    "import cv2\n",
    "import os\n",
    "\n",
    "# Set the path to the folder containing the PNG files\n",
    "image_folder = './frames'\n",
    "output_video = 'minicloud.avi'\n",
    "\n",
    "# Get the list of PNG files and sort them\n",
    "images = [img for img in os.listdir(image_folder) if img.endswith(\".png\")]\n",
    "images.sort()  # Ensure images are sorted in order\n",
    "\n",
    "# Read the first image to get the dimensions for the video\n",
    "frame = cv2.imread(os.path.join(image_folder, images[0]))\n",
    "height, width, layers = frame.shape\n",
    "\n",
    "# Create a video writer object\n",
    "fourcc = cv2.VideoWriter_fourcc(*'XVID')  # You can change this codec\n",
    "video = cv2.VideoWriter(output_video, fourcc, 10, (width, height))  # 30 FPS\n",
    "\n",
    "# Loop through all the images and add them to the video\n",
    "for image in images:\n",
    "    img_path = os.path.join(image_folder, image)\n",
    "    img = cv2.imread(img_path)\n",
    "    video.write(img)\n",
    "\n",
    "# Release the video writer object\n",
    "video.release()\n",
    "\n",
    "print(f\"Video saved as {output_video}\")\n"
   ]
  }
 ],
 "metadata": {
  "kernelspec": {
   "display_name": "lidar_project",
   "language": "python",
   "name": "python3"
  },
  "language_info": {
   "codemirror_mode": {
    "name": "ipython",
    "version": 3
   },
   "file_extension": ".py",
   "mimetype": "text/x-python",
   "name": "python",
   "nbconvert_exporter": "python",
   "pygments_lexer": "ipython3",
   "version": "3.12.7"
  }
 },
 "nbformat": 4,
 "nbformat_minor": 2
}
