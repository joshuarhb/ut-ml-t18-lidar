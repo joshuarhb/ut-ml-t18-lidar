{
 "cells": [
  {
   "cell_type": "code",
   "execution_count": 1,
   "metadata": {},
   "outputs": [
    {
     "ename": "ModuleNotFoundError",
     "evalue": "No module named 'pcl'",
     "output_type": "error",
     "traceback": [
      "\u001b[0;31m---------------------------------------------------------------------------\u001b[0m",
      "\u001b[0;31mModuleNotFoundError\u001b[0m                       Traceback (most recent call last)",
      "Cell \u001b[0;32mIn[1], line 1\u001b[0m\n\u001b[0;32m----> 1\u001b[0m \u001b[38;5;28;01mimport\u001b[39;00m \u001b[38;5;21;01mpcl\u001b[39;00m\n\u001b[1;32m      2\u001b[0m \u001b[38;5;28;01mimport\u001b[39;00m \u001b[38;5;21;01mos\u001b[39;00m\n\u001b[1;32m      4\u001b[0m \u001b[38;5;66;03m# Specify the directory containing the PCD files\u001b[39;00m\n",
      "\u001b[0;31mModuleNotFoundError\u001b[0m: No module named 'pcl'"
     ]
    }
   ],
   "source": [
    "import pcl\n",
    "import os\n",
    "\n",
    "# Specify the directory containing the PCD files\n",
    "pcd_directory = \"/path/to/your/pcd_files\"\n",
    "\n",
    "# Function to process a single PCD file\n",
    "def process_pcd(file_path):\n",
    "    # Load the PCD file\n",
    "    pcd = pcl.load(file_path)\n",
    "    print(f\"Loaded {file_path} with {pcd.size} points\")\n",
    "\n",
    "    # Downsample the point cloud using a voxel grid filter\n",
    "    voxel = pcd.make_voxel_grid_filter()\n",
    "    voxel.set_leaf_size(0.05, 0.05, 0.05)  # Adjust leaf size based on needs\n",
    "    downsampled_pcd = voxel.filter()\n",
    "    print(f\"Downsampled to {downsampled_pcd.size} points\")\n",
    "\n",
    "    # Further processing can be added here\n",
    "    return downsampled_pcd\n",
    "\n",
    "# Iterate through each PCD file in the directory\n",
    "for filename in os.listdir(pcd_directory):\n",
    "    if filename.endswith(\".pcd\"):\n",
    "        file_path = os.path.join(pcd_directory, filename)\n",
    "        # Process each PCD file\n",
    "        processed_pcd = process_pcd(file_path)\n",
    "\n",
    "# Additional processing logic can be added here if needed\n"
   ]
  }
 ],
 "metadata": {
  "kernelspec": {
   "display_name": "lidar_project",
   "language": "python",
   "name": "python3"
  },
  "language_info": {
   "codemirror_mode": {
    "name": "ipython",
    "version": 3
   },
   "file_extension": ".py",
   "mimetype": "text/x-python",
   "name": "python",
   "nbconvert_exporter": "python",
   "pygments_lexer": "ipython3",
   "version": "3.12.0"
  }
 },
 "nbformat": 4,
 "nbformat_minor": 2
}
